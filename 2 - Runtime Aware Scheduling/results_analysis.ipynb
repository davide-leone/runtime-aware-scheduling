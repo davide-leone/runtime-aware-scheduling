{
 "cells": [
  {
   "cell_type": "code",
   "execution_count": 1,
   "id": "94813b1a-0aac-4ada-85a2-319571d16e9e",
   "metadata": {},
   "outputs": [],
   "source": [
    "import pandas as pd"
   ]
  },
  {
   "cell_type": "code",
   "execution_count": 2,
   "id": "8516dd85-f7f7-4c82-aeb0-a001600872df",
   "metadata": {},
   "outputs": [],
   "source": [
    "# EXPERIMENTS 1-2: 24 hours workload + simple platform"
   ]
  },
  {
   "cell_type": "code",
   "execution_count": 3,
   "id": "27255772-1898-4e50-83af-b4247bfba8e2",
   "metadata": {},
   "outputs": [],
   "source": [
    "# 1) Analysis of the results obtained using the pred_aware scheduler"
   ]
  },
  {
   "cell_type": "code",
   "execution_count": 4,
   "id": "8f9028dd-4a90-4230-90b9-eb97005920d8",
   "metadata": {},
   "outputs": [],
   "source": [
    "file_name = \"Experiments/1 - Small Platform/out_jobs_pred_aware.csv\""
   ]
  },
  {
   "cell_type": "code",
   "execution_count": 5,
   "id": "0e123dc8-7e11-4fe3-99da-6cd7c647f2b6",
   "metadata": {},
   "outputs": [],
   "source": [
    "oj_24h_pred_aware = pd.read_csv(file_name)"
   ]
  },
  {
   "cell_type": "code",
   "execution_count": 6,
   "id": "2fb6fc7b-b2dd-4c59-b87c-55f08a35851f",
   "metadata": {},
   "outputs": [],
   "source": [
    "# oj_24h_pred_aware"
   ]
  },
  {
   "cell_type": "code",
   "execution_count": 7,
   "id": "232822a1-ecca-4d22-bb48-185c0b08bb0d",
   "metadata": {},
   "outputs": [
    {
     "data": {
      "text/html": [
       "<div>\n",
       "<style scoped>\n",
       "    .dataframe tbody tr th:only-of-type {\n",
       "        vertical-align: middle;\n",
       "    }\n",
       "\n",
       "    .dataframe tbody tr th {\n",
       "        vertical-align: top;\n",
       "    }\n",
       "\n",
       "    .dataframe thead th {\n",
       "        text-align: right;\n",
       "    }\n",
       "</style>\n",
       "<table border=\"1\" class=\"dataframe\">\n",
       "  <thead>\n",
       "    <tr style=\"text-align: right;\">\n",
       "      <th></th>\n",
       "      <th>job_id</th>\n",
       "      <th>submission_time</th>\n",
       "      <th>requested_number_of_resources</th>\n",
       "      <th>requested_time</th>\n",
       "      <th>success</th>\n",
       "      <th>starting_time</th>\n",
       "      <th>execution_time</th>\n",
       "      <th>finish_time</th>\n",
       "      <th>waiting_time</th>\n",
       "      <th>turnaround_time</th>\n",
       "      <th>stretch</th>\n",
       "      <th>consumed_energy</th>\n",
       "      <th>metadata</th>\n",
       "    </tr>\n",
       "  </thead>\n",
       "  <tbody>\n",
       "    <tr>\n",
       "      <th>count</th>\n",
       "      <td>4407.000000</td>\n",
       "      <td>4407.000000</td>\n",
       "      <td>4407.000000</td>\n",
       "      <td>4407.000000</td>\n",
       "      <td>4407.0</td>\n",
       "      <td>4407.000000</td>\n",
       "      <td>4407.000000</td>\n",
       "      <td>4.407000e+03</td>\n",
       "      <td>4407.000000</td>\n",
       "      <td>4.407000e+03</td>\n",
       "      <td>4407.000000</td>\n",
       "      <td>4407.0</td>\n",
       "      <td>0.0</td>\n",
       "    </tr>\n",
       "    <tr>\n",
       "      <th>mean</th>\n",
       "      <td>2204.000000</td>\n",
       "      <td>30123.472430</td>\n",
       "      <td>73.623100</td>\n",
       "      <td>16932.035398</td>\n",
       "      <td>1.0</td>\n",
       "      <td>157598.029439</td>\n",
       "      <td>1504.643749</td>\n",
       "      <td>1.591027e+05</td>\n",
       "      <td>127474.557009</td>\n",
       "      <td>1.289792e+05</td>\n",
       "      <td>22785.239851</td>\n",
       "      <td>-1.0</td>\n",
       "      <td>NaN</td>\n",
       "    </tr>\n",
       "    <tr>\n",
       "      <th>std</th>\n",
       "      <td>1272.335648</td>\n",
       "      <td>15364.541266</td>\n",
       "      <td>90.502941</td>\n",
       "      <td>20854.087704</td>\n",
       "      <td>0.0</td>\n",
       "      <td>220981.086963</td>\n",
       "      <td>4502.666890</td>\n",
       "      <td>2.213381e+05</td>\n",
       "      <td>219084.561568</td>\n",
       "      <td>2.194666e+05</td>\n",
       "      <td>66333.249357</td>\n",
       "      <td>0.0</td>\n",
       "      <td>NaN</td>\n",
       "    </tr>\n",
       "    <tr>\n",
       "      <th>min</th>\n",
       "      <td>1.000000</td>\n",
       "      <td>0.000000</td>\n",
       "      <td>1.000000</td>\n",
       "      <td>60.000000</td>\n",
       "      <td>1.0</td>\n",
       "      <td>0.011200</td>\n",
       "      <td>1.000000</td>\n",
       "      <td>4.197007e+03</td>\n",
       "      <td>0.006800</td>\n",
       "      <td>1.006800e+00</td>\n",
       "      <td>1.000000</td>\n",
       "      <td>-1.0</td>\n",
       "      <td>NaN</td>\n",
       "    </tr>\n",
       "    <tr>\n",
       "      <th>25%</th>\n",
       "      <td>1102.500000</td>\n",
       "      <td>17576.000000</td>\n",
       "      <td>2.000000</td>\n",
       "      <td>300.000000</td>\n",
       "      <td>1.0</td>\n",
       "      <td>29409.350600</td>\n",
       "      <td>1.000000</td>\n",
       "      <td>3.110563e+04</td>\n",
       "      <td>824.623500</td>\n",
       "      <td>2.548595e+03</td>\n",
       "      <td>12.431273</td>\n",
       "      <td>-1.0</td>\n",
       "      <td>NaN</td>\n",
       "    </tr>\n",
       "    <tr>\n",
       "      <th>50%</th>\n",
       "      <td>2204.000000</td>\n",
       "      <td>31051.000000</td>\n",
       "      <td>16.000000</td>\n",
       "      <td>300.000000</td>\n",
       "      <td>1.0</td>\n",
       "      <td>46109.037600</td>\n",
       "      <td>5.000000</td>\n",
       "      <td>4.751604e+04</td>\n",
       "      <td>10444.167200</td>\n",
       "      <td>1.193309e+04</td>\n",
       "      <td>191.684826</td>\n",
       "      <td>-1.0</td>\n",
       "      <td>NaN</td>\n",
       "    </tr>\n",
       "    <tr>\n",
       "      <th>75%</th>\n",
       "      <td>3305.500000</td>\n",
       "      <td>36830.000000</td>\n",
       "      <td>128.000000</td>\n",
       "      <td>43200.000000</td>\n",
       "      <td>1.0</td>\n",
       "      <td>151724.772800</td>\n",
       "      <td>1688.500000</td>\n",
       "      <td>1.517292e+05</td>\n",
       "      <td>123369.442200</td>\n",
       "      <td>1.234499e+05</td>\n",
       "      <td>6124.648517</td>\n",
       "      <td>-1.0</td>\n",
       "      <td>NaN</td>\n",
       "    </tr>\n",
       "    <tr>\n",
       "      <th>max</th>\n",
       "      <td>4407.000000</td>\n",
       "      <td>86268.000000</td>\n",
       "      <td>256.000000</td>\n",
       "      <td>86400.000000</td>\n",
       "      <td>1.0</td>\n",
       "      <td>999315.211600</td>\n",
       "      <td>64657.000000</td>\n",
       "      <td>1.029198e+06</td>\n",
       "      <td>994211.211600</td>\n",
       "      <td>1.024094e+06</td>\n",
       "      <td>450511.649074</td>\n",
       "      <td>-1.0</td>\n",
       "      <td>NaN</td>\n",
       "    </tr>\n",
       "  </tbody>\n",
       "</table>\n",
       "</div>"
      ],
      "text/plain": [
       "            job_id  submission_time  requested_number_of_resources  \\\n",
       "count  4407.000000      4407.000000                    4407.000000   \n",
       "mean   2204.000000     30123.472430                      73.623100   \n",
       "std    1272.335648     15364.541266                      90.502941   \n",
       "min       1.000000         0.000000                       1.000000   \n",
       "25%    1102.500000     17576.000000                       2.000000   \n",
       "50%    2204.000000     31051.000000                      16.000000   \n",
       "75%    3305.500000     36830.000000                     128.000000   \n",
       "max    4407.000000     86268.000000                     256.000000   \n",
       "\n",
       "       requested_time  success  starting_time  execution_time   finish_time  \\\n",
       "count     4407.000000   4407.0    4407.000000     4407.000000  4.407000e+03   \n",
       "mean     16932.035398      1.0  157598.029439     1504.643749  1.591027e+05   \n",
       "std      20854.087704      0.0  220981.086963     4502.666890  2.213381e+05   \n",
       "min         60.000000      1.0       0.011200        1.000000  4.197007e+03   \n",
       "25%        300.000000      1.0   29409.350600        1.000000  3.110563e+04   \n",
       "50%        300.000000      1.0   46109.037600        5.000000  4.751604e+04   \n",
       "75%      43200.000000      1.0  151724.772800     1688.500000  1.517292e+05   \n",
       "max      86400.000000      1.0  999315.211600    64657.000000  1.029198e+06   \n",
       "\n",
       "        waiting_time  turnaround_time        stretch  consumed_energy  \\\n",
       "count    4407.000000     4.407000e+03    4407.000000           4407.0   \n",
       "mean   127474.557009     1.289792e+05   22785.239851             -1.0   \n",
       "std    219084.561568     2.194666e+05   66333.249357              0.0   \n",
       "min         0.006800     1.006800e+00       1.000000             -1.0   \n",
       "25%       824.623500     2.548595e+03      12.431273             -1.0   \n",
       "50%     10444.167200     1.193309e+04     191.684826             -1.0   \n",
       "75%    123369.442200     1.234499e+05    6124.648517             -1.0   \n",
       "max    994211.211600     1.024094e+06  450511.649074             -1.0   \n",
       "\n",
       "       metadata  \n",
       "count       0.0  \n",
       "mean        NaN  \n",
       "std         NaN  \n",
       "min         NaN  \n",
       "25%         NaN  \n",
       "50%         NaN  \n",
       "75%         NaN  \n",
       "max         NaN  "
      ]
     },
     "execution_count": 7,
     "metadata": {},
     "output_type": "execute_result"
    }
   ],
   "source": [
    "oj_24h_pred_aware.describe()"
   ]
  },
  {
   "cell_type": "code",
   "execution_count": 8,
   "id": "cdbcfbe9-cf5e-4018-9956-46e3734cf8d2",
   "metadata": {},
   "outputs": [],
   "source": [
    "# Verifies how many \"heavy\" jobs (jobs that required the maximum of 256 resources) are executed at the end of the queue"
   ]
  },
  {
   "cell_type": "code",
   "execution_count": 9,
   "id": "a0cba574-4e12-4f2b-8db9-507d9750f6fa",
   "metadata": {},
   "outputs": [],
   "source": [
    "indices_256 = oj_24h_pred_aware.index[oj_24h_pred_aware[\"requested_number_of_resources\"] == 256].tolist()\n",
    "last_jobs = oj_24h_pred_aware.tail(700)\n",
    "last_jobs_256 = (last_jobs[\"requested_number_of_resources\"] == 256).sum()"
   ]
  },
  {
   "cell_type": "code",
   "execution_count": 10,
   "id": "04a79422-6cbc-4063-9006-dd29c4faea3a",
   "metadata": {},
   "outputs": [
    {
     "name": "stdout",
     "output_type": "stream",
     "text": [
      "There are 689 jobs that required the maximum of 256 resources; 685 of them are executed in the last 700 jobs.\n"
     ]
    }
   ],
   "source": [
    "print(\"There are {} jobs that required the maximum of 256 resources; {} of them are executed in the last 700 jobs.\".format(len(indices_256), last_jobs_256))"
   ]
  },
  {
   "cell_type": "code",
   "execution_count": 11,
   "id": "858eec94-8408-487c-9f30-c443d30e82b7",
   "metadata": {},
   "outputs": [],
   "source": [
    "# Compute the percentage of jobs that wait less than some arbitrarily chosen time intervals:\n",
    "# • one minute\n",
    "# • ten minutes\n",
    "# • one hour\n",
    "# • six hours \n",
    "# • one day"
   ]
  },
  {
   "cell_type": "code",
   "execution_count": 12,
   "id": "f423a7cf-9ee0-4ab9-b237-518ec58c0cfe",
   "metadata": {},
   "outputs": [
    {
     "name": "stdout",
     "output_type": "stream",
     "text": [
      "Jobs that wait less than one minute are 577 out of 4407 (13.09%)\n"
     ]
    }
   ],
   "source": [
    "below_1_min = oj_24h_pred_aware[oj_24h_pred_aware[\"waiting_time\"] < 60].shape[0]\n",
    "perc_below_1_min = below_1_min/oj_24h_pred_aware.shape[0]*100\n",
    "print(\"Jobs that wait less than one minute are {} out of {} ({:.2f}%)\".format(below_1_min, oj_24h_pred_aware.shape[0], perc_below_1_min))"
   ]
  },
  {
   "cell_type": "code",
   "execution_count": 13,
   "id": "51b527b1-c7a3-4476-b44b-6674c7b92a1d",
   "metadata": {},
   "outputs": [
    {
     "name": "stdout",
     "output_type": "stream",
     "text": [
      "Jobs that wait less than ten minutes are 1003 out of 4407 (22.76%)\n"
     ]
    }
   ],
   "source": [
    "below_10_min = oj_24h_pred_aware[oj_24h_pred_aware[\"waiting_time\"] < 600].shape[0]\n",
    "perc_below_10_min = below_10_min/oj_24h_pred_aware.shape[0]*100\n",
    "print(\"Jobs that wait less than ten minutes are {} out of {} ({:.2f}%)\".format(below_10_min, oj_24h_pred_aware.shape[0], perc_below_10_min))"
   ]
  },
  {
   "cell_type": "code",
   "execution_count": 14,
   "id": "f1978705-ef82-4027-b5fe-efa9dae6a1f8",
   "metadata": {},
   "outputs": [
    {
     "name": "stdout",
     "output_type": "stream",
     "text": [
      "Jobs that wait less than one hour are 1451 out of 4407 (32.92%)\n"
     ]
    }
   ],
   "source": [
    "below_1_hour = oj_24h_pred_aware[oj_24h_pred_aware[\"waiting_time\"] < 3600].shape[0]\n",
    "perc_below_1_hour = below_1_hour/oj_24h_pred_aware.shape[0]*100\n",
    "print(\"Jobs that wait less than one hour are {} out of {} ({:.2f}%)\".format(below_1_hour, oj_24h_pred_aware.shape[0], perc_below_1_hour))"
   ]
  },
  {
   "cell_type": "code",
   "execution_count": 15,
   "id": "6b5b3152-ef66-4a6d-9085-d20369d859fe",
   "metadata": {},
   "outputs": [
    {
     "name": "stdout",
     "output_type": "stream",
     "text": [
      "Jobs that wait less than six hours are 2461 out of 4407 (55.84%)\n"
     ]
    }
   ],
   "source": [
    "below_6_hour = oj_24h_pred_aware[oj_24h_pred_aware[\"waiting_time\"] < 21600].shape[0]\n",
    "perc_below_6_hour = below_6_hour/oj_24h_pred_aware.shape[0]*100\n",
    "print(\"Jobs that wait less than six hours are {} out of {} ({:.2f}%)\".format(below_6_hour, oj_24h_pred_aware.shape[0], perc_below_6_hour))"
   ]
  },
  {
   "cell_type": "code",
   "execution_count": 16,
   "id": "66ab40cc-3958-4437-9d17-89264914dcc6",
   "metadata": {},
   "outputs": [
    {
     "name": "stdout",
     "output_type": "stream",
     "text": [
      "Jobs that wait less than 24 hours are 2950 out of 4407 (66.94%)\n"
     ]
    }
   ],
   "source": [
    "below_24_hour = oj_24h_pred_aware[oj_24h_pred_aware[\"waiting_time\"] < 86400].shape[0]\n",
    "perc_below_24_hour = below_24_hour/oj_24h_pred_aware.shape[0]*100\n",
    "print(\"Jobs that wait less than 24 hours are {} out of {} ({:.2f}%)\".format(below_24_hour, oj_24h_pred_aware.shape[0], perc_below_24_hour))"
   ]
  },
  {
   "cell_type": "code",
   "execution_count": 17,
   "id": "8b20101e-abb4-4bcf-8c25-8b02f3cad5bf",
   "metadata": {},
   "outputs": [],
   "source": [
    "# 2) Analysis of the results obtained using the easy_bf scheduler"
   ]
  },
  {
   "cell_type": "code",
   "execution_count": 18,
   "id": "65101434-9fb7-4681-a083-7416ff69e3c1",
   "metadata": {},
   "outputs": [],
   "source": [
    "file_name = \"Experiments/1 - Small Platform/out_jobs_easy_bf.csv\"\n",
    "oj_24h_easy_bf = pd.read_csv(file_name)"
   ]
  },
  {
   "cell_type": "code",
   "execution_count": 19,
   "id": "79850efe-be6e-4a12-a5ff-40d087ef7ec2",
   "metadata": {},
   "outputs": [
    {
     "data": {
      "text/html": [
       "<div>\n",
       "<style scoped>\n",
       "    .dataframe tbody tr th:only-of-type {\n",
       "        vertical-align: middle;\n",
       "    }\n",
       "\n",
       "    .dataframe tbody tr th {\n",
       "        vertical-align: top;\n",
       "    }\n",
       "\n",
       "    .dataframe thead th {\n",
       "        text-align: right;\n",
       "    }\n",
       "</style>\n",
       "<table border=\"1\" class=\"dataframe\">\n",
       "  <thead>\n",
       "    <tr style=\"text-align: right;\">\n",
       "      <th></th>\n",
       "      <th>job_id</th>\n",
       "      <th>submission_time</th>\n",
       "      <th>requested_number_of_resources</th>\n",
       "      <th>requested_time</th>\n",
       "      <th>success</th>\n",
       "      <th>starting_time</th>\n",
       "      <th>execution_time</th>\n",
       "      <th>finish_time</th>\n",
       "      <th>waiting_time</th>\n",
       "      <th>turnaround_time</th>\n",
       "      <th>stretch</th>\n",
       "      <th>consumed_energy</th>\n",
       "      <th>metadata</th>\n",
       "    </tr>\n",
       "  </thead>\n",
       "  <tbody>\n",
       "    <tr>\n",
       "      <th>count</th>\n",
       "      <td>4407.000000</td>\n",
       "      <td>4407.000000</td>\n",
       "      <td>4407.000000</td>\n",
       "      <td>4407.000000</td>\n",
       "      <td>4407.0</td>\n",
       "      <td>4.407000e+03</td>\n",
       "      <td>4407.000000</td>\n",
       "      <td>4.407000e+03</td>\n",
       "      <td>4.407000e+03</td>\n",
       "      <td>4.407000e+03</td>\n",
       "      <td>4.407000e+03</td>\n",
       "      <td>4407.0</td>\n",
       "      <td>0.0</td>\n",
       "    </tr>\n",
       "    <tr>\n",
       "      <th>mean</th>\n",
       "      <td>2204.000000</td>\n",
       "      <td>30123.472430</td>\n",
       "      <td>73.623100</td>\n",
       "      <td>16932.035398</td>\n",
       "      <td>1.0</td>\n",
       "      <td>1.939698e+05</td>\n",
       "      <td>1504.643749</td>\n",
       "      <td>1.954744e+05</td>\n",
       "      <td>1.638463e+05</td>\n",
       "      <td>1.653510e+05</td>\n",
       "      <td>2.009717e+04</td>\n",
       "      <td>-1.0</td>\n",
       "      <td>NaN</td>\n",
       "    </tr>\n",
       "    <tr>\n",
       "      <th>std</th>\n",
       "      <td>1272.335648</td>\n",
       "      <td>15364.541266</td>\n",
       "      <td>90.502941</td>\n",
       "      <td>20854.087704</td>\n",
       "      <td>0.0</td>\n",
       "      <td>2.848399e+05</td>\n",
       "      <td>4502.666890</td>\n",
       "      <td>2.852260e+05</td>\n",
       "      <td>2.798023e+05</td>\n",
       "      <td>2.802126e+05</td>\n",
       "      <td>8.414266e+04</td>\n",
       "      <td>0.0</td>\n",
       "      <td>NaN</td>\n",
       "    </tr>\n",
       "    <tr>\n",
       "      <th>min</th>\n",
       "      <td>1.000000</td>\n",
       "      <td>0.000000</td>\n",
       "      <td>1.000000</td>\n",
       "      <td>60.000000</td>\n",
       "      <td>1.0</td>\n",
       "      <td>2.400000e-03</td>\n",
       "      <td>1.000000</td>\n",
       "      <td>4.197002e+03</td>\n",
       "      <td>1.800000e-03</td>\n",
       "      <td>1.001800e+00</td>\n",
       "      <td>1.000000e+00</td>\n",
       "      <td>-1.0</td>\n",
       "      <td>NaN</td>\n",
       "    </tr>\n",
       "    <tr>\n",
       "      <th>25%</th>\n",
       "      <td>1102.500000</td>\n",
       "      <td>17576.000000</td>\n",
       "      <td>2.000000</td>\n",
       "      <td>300.000000</td>\n",
       "      <td>1.0</td>\n",
       "      <td>3.402789e+04</td>\n",
       "      <td>1.000000</td>\n",
       "      <td>3.474402e+04</td>\n",
       "      <td>9.954621e+03</td>\n",
       "      <td>1.031302e+04</td>\n",
       "      <td>9.939380e+01</td>\n",
       "      <td>-1.0</td>\n",
       "      <td>NaN</td>\n",
       "    </tr>\n",
       "    <tr>\n",
       "      <th>50%</th>\n",
       "      <td>2204.000000</td>\n",
       "      <td>31051.000000</td>\n",
       "      <td>16.000000</td>\n",
       "      <td>300.000000</td>\n",
       "      <td>1.0</td>\n",
       "      <td>4.524722e+04</td>\n",
       "      <td>5.000000</td>\n",
       "      <td>4.532735e+04</td>\n",
       "      <td>1.679007e+04</td>\n",
       "      <td>1.810209e+04</td>\n",
       "      <td>1.123762e+03</td>\n",
       "      <td>-1.0</td>\n",
       "      <td>NaN</td>\n",
       "    </tr>\n",
       "    <tr>\n",
       "      <th>75%</th>\n",
       "      <td>3305.500000</td>\n",
       "      <td>36830.000000</td>\n",
       "      <td>128.000000</td>\n",
       "      <td>43200.000000</td>\n",
       "      <td>1.0</td>\n",
       "      <td>1.944272e+05</td>\n",
       "      <td>1688.500000</td>\n",
       "      <td>1.977778e+05</td>\n",
       "      <td>1.723139e+05</td>\n",
       "      <td>1.725983e+05</td>\n",
       "      <td>1.100720e+04</td>\n",
       "      <td>-1.0</td>\n",
       "      <td>NaN</td>\n",
       "    </tr>\n",
       "    <tr>\n",
       "      <th>max</th>\n",
       "      <td>4407.000000</td>\n",
       "      <td>86268.000000</td>\n",
       "      <td>256.000000</td>\n",
       "      <td>86400.000000</td>\n",
       "      <td>1.0</td>\n",
       "      <td>1.090304e+06</td>\n",
       "      <td>64657.000000</td>\n",
       "      <td>1.090869e+06</td>\n",
       "      <td>1.026349e+06</td>\n",
       "      <td>1.027933e+06</td>\n",
       "      <td>1.026350e+06</td>\n",
       "      <td>-1.0</td>\n",
       "      <td>NaN</td>\n",
       "    </tr>\n",
       "  </tbody>\n",
       "</table>\n",
       "</div>"
      ],
      "text/plain": [
       "            job_id  submission_time  requested_number_of_resources  \\\n",
       "count  4407.000000      4407.000000                    4407.000000   \n",
       "mean   2204.000000     30123.472430                      73.623100   \n",
       "std    1272.335648     15364.541266                      90.502941   \n",
       "min       1.000000         0.000000                       1.000000   \n",
       "25%    1102.500000     17576.000000                       2.000000   \n",
       "50%    2204.000000     31051.000000                      16.000000   \n",
       "75%    3305.500000     36830.000000                     128.000000   \n",
       "max    4407.000000     86268.000000                     256.000000   \n",
       "\n",
       "       requested_time  success  starting_time  execution_time   finish_time  \\\n",
       "count     4407.000000   4407.0   4.407000e+03     4407.000000  4.407000e+03   \n",
       "mean     16932.035398      1.0   1.939698e+05     1504.643749  1.954744e+05   \n",
       "std      20854.087704      0.0   2.848399e+05     4502.666890  2.852260e+05   \n",
       "min         60.000000      1.0   2.400000e-03        1.000000  4.197002e+03   \n",
       "25%        300.000000      1.0   3.402789e+04        1.000000  3.474402e+04   \n",
       "50%        300.000000      1.0   4.524722e+04        5.000000  4.532735e+04   \n",
       "75%      43200.000000      1.0   1.944272e+05     1688.500000  1.977778e+05   \n",
       "max      86400.000000      1.0   1.090304e+06    64657.000000  1.090869e+06   \n",
       "\n",
       "       waiting_time  turnaround_time       stretch  consumed_energy  metadata  \n",
       "count  4.407000e+03     4.407000e+03  4.407000e+03           4407.0       0.0  \n",
       "mean   1.638463e+05     1.653510e+05  2.009717e+04             -1.0       NaN  \n",
       "std    2.798023e+05     2.802126e+05  8.414266e+04              0.0       NaN  \n",
       "min    1.800000e-03     1.001800e+00  1.000000e+00             -1.0       NaN  \n",
       "25%    9.954621e+03     1.031302e+04  9.939380e+01             -1.0       NaN  \n",
       "50%    1.679007e+04     1.810209e+04  1.123762e+03             -1.0       NaN  \n",
       "75%    1.723139e+05     1.725983e+05  1.100720e+04             -1.0       NaN  \n",
       "max    1.026349e+06     1.027933e+06  1.026350e+06             -1.0       NaN  "
      ]
     },
     "execution_count": 19,
     "metadata": {},
     "output_type": "execute_result"
    }
   ],
   "source": [
    "oj_24h_easy_bf.describe()"
   ]
  },
  {
   "cell_type": "code",
   "execution_count": 20,
   "id": "f822acc7-911d-45ee-a5e1-5dabfeed4074",
   "metadata": {},
   "outputs": [],
   "source": [
    "# Compute the percentage of jobs that wait less than some arbitrarily chosen time intervals:\n",
    "# • one minute\n",
    "# • ten minutes\n",
    "# • one hour\n",
    "# • six hours \n",
    "# • one day"
   ]
  },
  {
   "cell_type": "code",
   "execution_count": 21,
   "id": "27c94e54-b1f6-4c28-b5bc-98e9c9ff08da",
   "metadata": {},
   "outputs": [
    {
     "name": "stdout",
     "output_type": "stream",
     "text": [
      "Jobs that wait less than one minute are 91 out of 4407 (2.06%)\n"
     ]
    }
   ],
   "source": [
    "below_1_min = oj_24h_easy_bf[oj_24h_easy_bf[\"waiting_time\"] < 60].shape[0]\n",
    "perc_below_1_min = below_1_min/oj_24h_easy_bf.shape[0]*100\n",
    "print(\"Jobs that wait less than one minute are {} out of {} ({:.2f}%)\".format(below_1_min, oj_24h_easy_bf.shape[0], perc_below_1_min))"
   ]
  },
  {
   "cell_type": "code",
   "execution_count": 22,
   "id": "9ca56d7b-35d2-40f3-80b6-8ff9f4383e51",
   "metadata": {},
   "outputs": [
    {
     "name": "stdout",
     "output_type": "stream",
     "text": [
      "Jobs that wait less than ten minutes are 130 out of 4407 (2.95%)\n"
     ]
    }
   ],
   "source": [
    "below_10_min = oj_24h_easy_bf[oj_24h_easy_bf[\"waiting_time\"] < 600].shape[0]\n",
    "perc_below_10_min = below_10_min/oj_24h_easy_bf.shape[0]*100\n",
    "print(\"Jobs that wait less than ten minutes are {} out of {} ({:.2f}%)\".format(below_10_min, oj_24h_easy_bf.shape[0], perc_below_10_min))"
   ]
  },
  {
   "cell_type": "code",
   "execution_count": 23,
   "id": "2ea8d9fb-b429-4c09-bc81-6edbd5b6e220",
   "metadata": {},
   "outputs": [
    {
     "name": "stdout",
     "output_type": "stream",
     "text": [
      "Jobs that wait less than one hour are 703 out of 4407 (15.95%)\n"
     ]
    }
   ],
   "source": [
    "below_1_hour = oj_24h_easy_bf[oj_24h_easy_bf[\"waiting_time\"] < 3600].shape[0]\n",
    "perc_below_1_hour = below_1_hour/oj_24h_easy_bf.shape[0]*100\n",
    "print(\"Jobs that wait less than one hour are {} out of {} ({:.2f}%)\".format(below_1_hour, oj_24h_easy_bf.shape[0], perc_below_1_hour))"
   ]
  },
  {
   "cell_type": "code",
   "execution_count": 24,
   "id": "92f27efb-fbbb-4cdd-82b5-ab1b3e986284",
   "metadata": {},
   "outputs": [
    {
     "name": "stdout",
     "output_type": "stream",
     "text": [
      "Jobs that wait less than six hours are 2509 out of 4407 (56.93%)\n"
     ]
    }
   ],
   "source": [
    "below_6_hour = oj_24h_easy_bf[oj_24h_easy_bf[\"waiting_time\"] < 21600].shape[0]\n",
    "perc_below_6_hour = below_6_hour/oj_24h_easy_bf.shape[0]*100\n",
    "print(\"Jobs that wait less than six hours are {} out of {} ({:.2f}%)\".format(below_6_hour, oj_24h_easy_bf.shape[0], perc_below_6_hour))"
   ]
  },
  {
   "cell_type": "code",
   "execution_count": 25,
   "id": "17fa60a6-1a31-4db7-a78c-e94d95e1f112",
   "metadata": {},
   "outputs": [
    {
     "name": "stdout",
     "output_type": "stream",
     "text": [
      "Jobs that wait less than one day are 3166 out of 4407 (71.84%)\n"
     ]
    }
   ],
   "source": [
    "above_24_hour = oj_24h_easy_bf[oj_24h_easy_bf[\"waiting_time\"] < 86400].shape[0]\n",
    "perc_above_24_hour = above_24_hour/oj_24h_easy_bf.shape[0]*100\n",
    "print(\"Jobs that wait less than one day are {} out of {} ({:.2f}%)\".format(above_24_hour, oj_24h_easy_bf.shape[0], perc_above_24_hour))"
   ]
  },
  {
   "cell_type": "code",
   "execution_count": 26,
   "id": "f74f3209-ce32-4331-a68d-a45946edfc86",
   "metadata": {},
   "outputs": [],
   "source": [
    "# EXPERIMENTS 3-4: 24 hours workload + big platform"
   ]
  },
  {
   "cell_type": "code",
   "execution_count": 27,
   "id": "31d38dbe-2dd5-4b0d-9609-47e520c2b185",
   "metadata": {},
   "outputs": [],
   "source": [
    "# 3) Analysis of the results obtained using the pred_aware scheduler"
   ]
  },
  {
   "cell_type": "code",
   "execution_count": 28,
   "id": "b8e196b4-ab80-4c52-81aa-31e907717253",
   "metadata": {},
   "outputs": [],
   "source": [
    "file_name = \"Experiments/2 - Big Platform/out_jobs_pred_aware.csv\"\n",
    "oj_24h_pred_aware = pd.read_csv(file_name)"
   ]
  },
  {
   "cell_type": "code",
   "execution_count": 29,
   "id": "5b2a37ec-c299-403a-83f5-858be3405007",
   "metadata": {},
   "outputs": [
    {
     "data": {
      "text/html": [
       "<div>\n",
       "<style scoped>\n",
       "    .dataframe tbody tr th:only-of-type {\n",
       "        vertical-align: middle;\n",
       "    }\n",
       "\n",
       "    .dataframe tbody tr th {\n",
       "        vertical-align: top;\n",
       "    }\n",
       "\n",
       "    .dataframe thead th {\n",
       "        text-align: right;\n",
       "    }\n",
       "</style>\n",
       "<table border=\"1\" class=\"dataframe\">\n",
       "  <thead>\n",
       "    <tr style=\"text-align: right;\">\n",
       "      <th></th>\n",
       "      <th>job_id</th>\n",
       "      <th>submission_time</th>\n",
       "      <th>requested_number_of_resources</th>\n",
       "      <th>requested_time</th>\n",
       "      <th>success</th>\n",
       "      <th>starting_time</th>\n",
       "      <th>execution_time</th>\n",
       "      <th>finish_time</th>\n",
       "      <th>waiting_time</th>\n",
       "      <th>turnaround_time</th>\n",
       "      <th>stretch</th>\n",
       "      <th>consumed_energy</th>\n",
       "      <th>metadata</th>\n",
       "    </tr>\n",
       "  </thead>\n",
       "  <tbody>\n",
       "    <tr>\n",
       "      <th>count</th>\n",
       "      <td>4407.000000</td>\n",
       "      <td>4407.000000</td>\n",
       "      <td>4407.000000</td>\n",
       "      <td>4407.000000</td>\n",
       "      <td>4407.0</td>\n",
       "      <td>4407.000000</td>\n",
       "      <td>4407.000000</td>\n",
       "      <td>4407.000000</td>\n",
       "      <td>4407.000000</td>\n",
       "      <td>4407.000000</td>\n",
       "      <td>4407.000000</td>\n",
       "      <td>4407.0</td>\n",
       "      <td>0.0</td>\n",
       "    </tr>\n",
       "    <tr>\n",
       "      <th>mean</th>\n",
       "      <td>2204.000000</td>\n",
       "      <td>30123.472430</td>\n",
       "      <td>73.623100</td>\n",
       "      <td>16932.035398</td>\n",
       "      <td>1.0</td>\n",
       "      <td>30970.011520</td>\n",
       "      <td>1504.643749</td>\n",
       "      <td>32474.655268</td>\n",
       "      <td>846.539090</td>\n",
       "      <td>2351.182838</td>\n",
       "      <td>2.308898</td>\n",
       "      <td>-1.0</td>\n",
       "      <td>NaN</td>\n",
       "    </tr>\n",
       "    <tr>\n",
       "      <th>std</th>\n",
       "      <td>1272.335648</td>\n",
       "      <td>15364.541266</td>\n",
       "      <td>90.502941</td>\n",
       "      <td>20854.087704</td>\n",
       "      <td>0.0</td>\n",
       "      <td>16019.827209</td>\n",
       "      <td>4502.666890</td>\n",
       "      <td>16376.273094</td>\n",
       "      <td>2782.168288</td>\n",
       "      <td>5380.459522</td>\n",
       "      <td>8.705868</td>\n",
       "      <td>0.0</td>\n",
       "      <td>NaN</td>\n",
       "    </tr>\n",
       "    <tr>\n",
       "      <th>min</th>\n",
       "      <td>1.000000</td>\n",
       "      <td>0.000000</td>\n",
       "      <td>1.000000</td>\n",
       "      <td>60.000000</td>\n",
       "      <td>1.0</td>\n",
       "      <td>0.011200</td>\n",
       "      <td>1.000000</td>\n",
       "      <td>4197.006800</td>\n",
       "      <td>0.006800</td>\n",
       "      <td>1.006800</td>\n",
       "      <td>1.000000</td>\n",
       "      <td>-1.0</td>\n",
       "      <td>NaN</td>\n",
       "    </tr>\n",
       "    <tr>\n",
       "      <th>25%</th>\n",
       "      <td>1102.500000</td>\n",
       "      <td>17576.000000</td>\n",
       "      <td>2.000000</td>\n",
       "      <td>300.000000</td>\n",
       "      <td>1.0</td>\n",
       "      <td>17576.014300</td>\n",
       "      <td>1.000000</td>\n",
       "      <td>19666.506800</td>\n",
       "      <td>0.006800</td>\n",
       "      <td>1.006800</td>\n",
       "      <td>1.000056</td>\n",
       "      <td>-1.0</td>\n",
       "      <td>NaN</td>\n",
       "    </tr>\n",
       "    <tr>\n",
       "      <th>50%</th>\n",
       "      <td>2204.000000</td>\n",
       "      <td>31051.000000</td>\n",
       "      <td>16.000000</td>\n",
       "      <td>300.000000</td>\n",
       "      <td>1.0</td>\n",
       "      <td>31051.006800</td>\n",
       "      <td>5.000000</td>\n",
       "      <td>31821.006800</td>\n",
       "      <td>0.006800</td>\n",
       "      <td>12.007400</td>\n",
       "      <td>1.003400</td>\n",
       "      <td>-1.0</td>\n",
       "      <td>NaN</td>\n",
       "    </tr>\n",
       "    <tr>\n",
       "      <th>75%</th>\n",
       "      <td>3305.500000</td>\n",
       "      <td>36830.000000</td>\n",
       "      <td>128.000000</td>\n",
       "      <td>43200.000000</td>\n",
       "      <td>1.0</td>\n",
       "      <td>38020.008300</td>\n",
       "      <td>1688.500000</td>\n",
       "      <td>40493.515500</td>\n",
       "      <td>0.012800</td>\n",
       "      <td>2738.510400</td>\n",
       "      <td>1.006800</td>\n",
       "      <td>-1.0</td>\n",
       "      <td>NaN</td>\n",
       "    </tr>\n",
       "    <tr>\n",
       "      <th>max</th>\n",
       "      <td>4407.000000</td>\n",
       "      <td>86268.000000</td>\n",
       "      <td>256.000000</td>\n",
       "      <td>86400.000000</td>\n",
       "      <td>1.0</td>\n",
       "      <td>86268.006800</td>\n",
       "      <td>64657.000000</td>\n",
       "      <td>86272.006800</td>\n",
       "      <td>17003.092800</td>\n",
       "      <td>64657.006800</td>\n",
       "      <td>261.081800</td>\n",
       "      <td>-1.0</td>\n",
       "      <td>NaN</td>\n",
       "    </tr>\n",
       "  </tbody>\n",
       "</table>\n",
       "</div>"
      ],
      "text/plain": [
       "            job_id  submission_time  requested_number_of_resources  \\\n",
       "count  4407.000000      4407.000000                    4407.000000   \n",
       "mean   2204.000000     30123.472430                      73.623100   \n",
       "std    1272.335648     15364.541266                      90.502941   \n",
       "min       1.000000         0.000000                       1.000000   \n",
       "25%    1102.500000     17576.000000                       2.000000   \n",
       "50%    2204.000000     31051.000000                      16.000000   \n",
       "75%    3305.500000     36830.000000                     128.000000   \n",
       "max    4407.000000     86268.000000                     256.000000   \n",
       "\n",
       "       requested_time  success  starting_time  execution_time   finish_time  \\\n",
       "count     4407.000000   4407.0    4407.000000     4407.000000   4407.000000   \n",
       "mean     16932.035398      1.0   30970.011520     1504.643749  32474.655268   \n",
       "std      20854.087704      0.0   16019.827209     4502.666890  16376.273094   \n",
       "min         60.000000      1.0       0.011200        1.000000   4197.006800   \n",
       "25%        300.000000      1.0   17576.014300        1.000000  19666.506800   \n",
       "50%        300.000000      1.0   31051.006800        5.000000  31821.006800   \n",
       "75%      43200.000000      1.0   38020.008300     1688.500000  40493.515500   \n",
       "max      86400.000000      1.0   86268.006800    64657.000000  86272.006800   \n",
       "\n",
       "       waiting_time  turnaround_time      stretch  consumed_energy  metadata  \n",
       "count   4407.000000      4407.000000  4407.000000           4407.0       0.0  \n",
       "mean     846.539090      2351.182838     2.308898             -1.0       NaN  \n",
       "std     2782.168288      5380.459522     8.705868              0.0       NaN  \n",
       "min        0.006800         1.006800     1.000000             -1.0       NaN  \n",
       "25%        0.006800         1.006800     1.000056             -1.0       NaN  \n",
       "50%        0.006800        12.007400     1.003400             -1.0       NaN  \n",
       "75%        0.012800      2738.510400     1.006800             -1.0       NaN  \n",
       "max    17003.092800     64657.006800   261.081800             -1.0       NaN  "
      ]
     },
     "execution_count": 29,
     "metadata": {},
     "output_type": "execute_result"
    }
   ],
   "source": [
    "oj_24h_pred_aware.describe()"
   ]
  },
  {
   "cell_type": "code",
   "execution_count": 30,
   "id": "9448e6b9-45b3-48eb-8827-f77fc31eec0e",
   "metadata": {},
   "outputs": [],
   "source": [
    "# Verifies how many \"heavy\" jobs (jobs that required the maximum of 256 resources) are executed at the end of the queue"
   ]
  },
  {
   "cell_type": "code",
   "execution_count": 31,
   "id": "00e16ae4-b9be-41d4-955a-188c459f913b",
   "metadata": {},
   "outputs": [],
   "source": [
    "indices_256 = oj_24h_pred_aware.index[oj_24h_pred_aware[\"requested_number_of_resources\"] == 256].tolist()\n",
    "last_jobs = oj_24h_pred_aware.tail(700)\n",
    "last_jobs_256 = (last_jobs[\"requested_number_of_resources\"] == 256).sum()"
   ]
  },
  {
   "cell_type": "code",
   "execution_count": 32,
   "id": "3ac8e5cf-10cc-4153-8417-303c60e99356",
   "metadata": {},
   "outputs": [
    {
     "name": "stdout",
     "output_type": "stream",
     "text": [
      "There are 689 jobs that required the maximum of 256 resources; 296 of them are executed in the last 700 jobs.\n"
     ]
    }
   ],
   "source": [
    "print(\"There are {} jobs that required the maximum of 256 resources; {} of them are executed in the last 700 jobs.\".format(len(indices_256), last_jobs_256))"
   ]
  },
  {
   "cell_type": "code",
   "execution_count": 33,
   "id": "3bd1a527-c869-4031-9af4-ff61d70416d3",
   "metadata": {},
   "outputs": [],
   "source": [
    "# Compute the percentage of jobs that wait less than some arbitrarily chosen time intervals:\n",
    "# • one minute\n",
    "# • ten minutes\n",
    "# • one hour\n",
    "# • six hours "
   ]
  },
  {
   "cell_type": "code",
   "execution_count": 34,
   "id": "e3993e97-f836-46d7-bc79-4c9b6e87c037",
   "metadata": {},
   "outputs": [
    {
     "name": "stdout",
     "output_type": "stream",
     "text": [
      "Jobs that wait less than one minute are 3740 out of 4407 (84.86%)\n"
     ]
    }
   ],
   "source": [
    "below_1_min = oj_24h_pred_aware[oj_24h_pred_aware[\"waiting_time\"] < 60].shape[0]\n",
    "perc_below_1_min = below_1_min/oj_24h_pred_aware.shape[0]*100\n",
    "print(\"Jobs that wait less than one minute are {} out of {} ({:.2f}%)\".format(below_1_min, oj_24h_pred_aware.shape[0], perc_below_1_min))"
   ]
  },
  {
   "cell_type": "code",
   "execution_count": 35,
   "id": "e4203a87-099b-4f98-9672-79af7e9ad464",
   "metadata": {},
   "outputs": [
    {
     "name": "stdout",
     "output_type": "stream",
     "text": [
      "Jobs that wait less than ten minutes are 3903 out of 4407 (88.56%)\n"
     ]
    }
   ],
   "source": [
    "below_10_min = oj_24h_pred_aware[oj_24h_pred_aware[\"waiting_time\"] < 600].shape[0]\n",
    "perc_below_10_min = below_10_min/oj_24h_pred_aware.shape[0]*100\n",
    "print(\"Jobs that wait less than ten minutes are {} out of {} ({:.2f}%)\".format(below_10_min, oj_24h_pred_aware.shape[0], perc_below_10_min))"
   ]
  },
  {
   "cell_type": "code",
   "execution_count": 36,
   "id": "6249d617-cb25-43e9-814f-c88d1f973c6f",
   "metadata": {},
   "outputs": [
    {
     "name": "stdout",
     "output_type": "stream",
     "text": [
      "Jobs that wait less than one hour are 4032 out of 4407 (91.49%)\n"
     ]
    }
   ],
   "source": [
    "below_1_hour = oj_24h_pred_aware[oj_24h_pred_aware[\"waiting_time\"] < 3600].shape[0]\n",
    "perc_below_1_hour = below_1_hour/oj_24h_pred_aware.shape[0]*100\n",
    "print(\"Jobs that wait less than one hour are {} out of {} ({:.2f}%)\".format(below_1_hour, oj_24h_pred_aware.shape[0], perc_below_1_hour))"
   ]
  },
  {
   "cell_type": "code",
   "execution_count": 37,
   "id": "be9a9b0a-cfb5-46a1-b33f-4dfe0b42eaef",
   "metadata": {},
   "outputs": [
    {
     "name": "stdout",
     "output_type": "stream",
     "text": [
      "Jobs that wait less than six hours are 4407 out of 4407 (100.00%)\n"
     ]
    }
   ],
   "source": [
    "below_6_hour = oj_24h_pred_aware[oj_24h_pred_aware[\"waiting_time\"] < 21600].shape[0]\n",
    "perc_below_6_hour = below_6_hour/oj_24h_pred_aware.shape[0]*100\n",
    "print(\"Jobs that wait less than six hours are {} out of {} ({:.2f}%)\".format(below_6_hour, oj_24h_pred_aware.shape[0], perc_below_6_hour))"
   ]
  },
  {
   "cell_type": "code",
   "execution_count": 38,
   "id": "6fc211b5-83c1-49d4-83ff-2a0b57e1b60b",
   "metadata": {},
   "outputs": [],
   "source": [
    "# 4) Analysis of the results obtained using the easy_bf scheduler"
   ]
  },
  {
   "cell_type": "code",
   "execution_count": 39,
   "id": "dfc89588-e443-4784-b9a7-d5d7ab045805",
   "metadata": {},
   "outputs": [],
   "source": [
    "file_name = \"Experiments/2 - Big Platform/out_jobs_easy_bf.csv\"\n",
    "oj_24h_easy_bf = pd.read_csv(file_name)"
   ]
  },
  {
   "cell_type": "code",
   "execution_count": 40,
   "id": "f97ec5f6-9cf7-4965-a9ce-206043771c39",
   "metadata": {},
   "outputs": [
    {
     "data": {
      "text/html": [
       "<div>\n",
       "<style scoped>\n",
       "    .dataframe tbody tr th:only-of-type {\n",
       "        vertical-align: middle;\n",
       "    }\n",
       "\n",
       "    .dataframe tbody tr th {\n",
       "        vertical-align: top;\n",
       "    }\n",
       "\n",
       "    .dataframe thead th {\n",
       "        text-align: right;\n",
       "    }\n",
       "</style>\n",
       "<table border=\"1\" class=\"dataframe\">\n",
       "  <thead>\n",
       "    <tr style=\"text-align: right;\">\n",
       "      <th></th>\n",
       "      <th>job_id</th>\n",
       "      <th>submission_time</th>\n",
       "      <th>requested_number_of_resources</th>\n",
       "      <th>requested_time</th>\n",
       "      <th>success</th>\n",
       "      <th>starting_time</th>\n",
       "      <th>execution_time</th>\n",
       "      <th>finish_time</th>\n",
       "      <th>waiting_time</th>\n",
       "      <th>turnaround_time</th>\n",
       "      <th>stretch</th>\n",
       "      <th>consumed_energy</th>\n",
       "      <th>metadata</th>\n",
       "    </tr>\n",
       "  </thead>\n",
       "  <tbody>\n",
       "    <tr>\n",
       "      <th>count</th>\n",
       "      <td>4407.000000</td>\n",
       "      <td>4407.000000</td>\n",
       "      <td>4407.000000</td>\n",
       "      <td>4407.000000</td>\n",
       "      <td>4407.0</td>\n",
       "      <td>4407.000000</td>\n",
       "      <td>4407.000000</td>\n",
       "      <td>4407.000000</td>\n",
       "      <td>4407.000000</td>\n",
       "      <td>4407.000000</td>\n",
       "      <td>4407.000000</td>\n",
       "      <td>4407.0</td>\n",
       "      <td>0.0</td>\n",
       "    </tr>\n",
       "    <tr>\n",
       "      <th>mean</th>\n",
       "      <td>2204.000000</td>\n",
       "      <td>30123.472430</td>\n",
       "      <td>73.623100</td>\n",
       "      <td>16932.035398</td>\n",
       "      <td>1.0</td>\n",
       "      <td>31076.853694</td>\n",
       "      <td>1504.643749</td>\n",
       "      <td>32581.497442</td>\n",
       "      <td>953.381263</td>\n",
       "      <td>2458.025012</td>\n",
       "      <td>45.851883</td>\n",
       "      <td>-1.0</td>\n",
       "      <td>NaN</td>\n",
       "    </tr>\n",
       "    <tr>\n",
       "      <th>std</th>\n",
       "      <td>1272.335648</td>\n",
       "      <td>15364.541266</td>\n",
       "      <td>90.502941</td>\n",
       "      <td>20854.087704</td>\n",
       "      <td>0.0</td>\n",
       "      <td>16121.999776</td>\n",
       "      <td>4502.666890</td>\n",
       "      <td>16480.103517</td>\n",
       "      <td>2671.273150</td>\n",
       "      <td>5335.921947</td>\n",
       "      <td>523.210574</td>\n",
       "      <td>0.0</td>\n",
       "      <td>NaN</td>\n",
       "    </tr>\n",
       "    <tr>\n",
       "      <th>min</th>\n",
       "      <td>1.000000</td>\n",
       "      <td>0.000000</td>\n",
       "      <td>1.000000</td>\n",
       "      <td>60.000000</td>\n",
       "      <td>1.0</td>\n",
       "      <td>0.002400</td>\n",
       "      <td>1.000000</td>\n",
       "      <td>4197.001800</td>\n",
       "      <td>0.001800</td>\n",
       "      <td>1.001800</td>\n",
       "      <td>1.000000</td>\n",
       "      <td>-1.0</td>\n",
       "      <td>NaN</td>\n",
       "    </tr>\n",
       "    <tr>\n",
       "      <th>25%</th>\n",
       "      <td>1102.500000</td>\n",
       "      <td>17576.000000</td>\n",
       "      <td>2.000000</td>\n",
       "      <td>300.000000</td>\n",
       "      <td>1.0</td>\n",
       "      <td>17576.009300</td>\n",
       "      <td>1.000000</td>\n",
       "      <td>19666.501800</td>\n",
       "      <td>0.001800</td>\n",
       "      <td>1.001800</td>\n",
       "      <td>1.000150</td>\n",
       "      <td>-1.0</td>\n",
       "      <td>NaN</td>\n",
       "    </tr>\n",
       "    <tr>\n",
       "      <th>50%</th>\n",
       "      <td>2204.000000</td>\n",
       "      <td>31051.000000</td>\n",
       "      <td>16.000000</td>\n",
       "      <td>300.000000</td>\n",
       "      <td>1.0</td>\n",
       "      <td>31051.001800</td>\n",
       "      <td>5.000000</td>\n",
       "      <td>31821.001800</td>\n",
       "      <td>0.001800</td>\n",
       "      <td>12.003600</td>\n",
       "      <td>1.001520</td>\n",
       "      <td>-1.0</td>\n",
       "      <td>NaN</td>\n",
       "    </tr>\n",
       "    <tr>\n",
       "      <th>75%</th>\n",
       "      <td>3305.500000</td>\n",
       "      <td>36830.000000</td>\n",
       "      <td>128.000000</td>\n",
       "      <td>43200.000000</td>\n",
       "      <td>1.0</td>\n",
       "      <td>38032.017300</td>\n",
       "      <td>1688.500000</td>\n",
       "      <td>40546.017400</td>\n",
       "      <td>0.009600</td>\n",
       "      <td>3099.502700</td>\n",
       "      <td>1.001800</td>\n",
       "      <td>-1.0</td>\n",
       "      <td>NaN</td>\n",
       "    </tr>\n",
       "    <tr>\n",
       "      <th>max</th>\n",
       "      <td>4407.000000</td>\n",
       "      <td>86268.000000</td>\n",
       "      <td>256.000000</td>\n",
       "      <td>86400.000000</td>\n",
       "      <td>1.0</td>\n",
       "      <td>86268.002400</td>\n",
       "      <td>64657.000000</td>\n",
       "      <td>86272.002400</td>\n",
       "      <td>12608.038400</td>\n",
       "      <td>64657.002400</td>\n",
       "      <td>12156.040600</td>\n",
       "      <td>-1.0</td>\n",
       "      <td>NaN</td>\n",
       "    </tr>\n",
       "  </tbody>\n",
       "</table>\n",
       "</div>"
      ],
      "text/plain": [
       "            job_id  submission_time  requested_number_of_resources  \\\n",
       "count  4407.000000      4407.000000                    4407.000000   \n",
       "mean   2204.000000     30123.472430                      73.623100   \n",
       "std    1272.335648     15364.541266                      90.502941   \n",
       "min       1.000000         0.000000                       1.000000   \n",
       "25%    1102.500000     17576.000000                       2.000000   \n",
       "50%    2204.000000     31051.000000                      16.000000   \n",
       "75%    3305.500000     36830.000000                     128.000000   \n",
       "max    4407.000000     86268.000000                     256.000000   \n",
       "\n",
       "       requested_time  success  starting_time  execution_time   finish_time  \\\n",
       "count     4407.000000   4407.0    4407.000000     4407.000000   4407.000000   \n",
       "mean     16932.035398      1.0   31076.853694     1504.643749  32581.497442   \n",
       "std      20854.087704      0.0   16121.999776     4502.666890  16480.103517   \n",
       "min         60.000000      1.0       0.002400        1.000000   4197.001800   \n",
       "25%        300.000000      1.0   17576.009300        1.000000  19666.501800   \n",
       "50%        300.000000      1.0   31051.001800        5.000000  31821.001800   \n",
       "75%      43200.000000      1.0   38032.017300     1688.500000  40546.017400   \n",
       "max      86400.000000      1.0   86268.002400    64657.000000  86272.002400   \n",
       "\n",
       "       waiting_time  turnaround_time       stretch  consumed_energy  metadata  \n",
       "count   4407.000000      4407.000000   4407.000000           4407.0       0.0  \n",
       "mean     953.381263      2458.025012     45.851883             -1.0       NaN  \n",
       "std     2671.273150      5335.921947    523.210574              0.0       NaN  \n",
       "min        0.001800         1.001800      1.000000             -1.0       NaN  \n",
       "25%        0.001800         1.001800      1.000150             -1.0       NaN  \n",
       "50%        0.001800        12.003600      1.001520             -1.0       NaN  \n",
       "75%        0.009600      3099.502700      1.001800             -1.0       NaN  \n",
       "max    12608.038400     64657.002400  12156.040600             -1.0       NaN  "
      ]
     },
     "execution_count": 40,
     "metadata": {},
     "output_type": "execute_result"
    }
   ],
   "source": [
    "oj_24h_easy_bf.describe()"
   ]
  },
  {
   "cell_type": "code",
   "execution_count": 41,
   "id": "8497fb7c-def0-4bdc-9665-03d2d73c767d",
   "metadata": {},
   "outputs": [],
   "source": [
    "# Compute the percentage of jobs that wait less than some arbitrarily chosen time intervals:\n",
    "# • one minute\n",
    "# • ten minutes\n",
    "# • one hour\n",
    "# • six hours "
   ]
  },
  {
   "cell_type": "code",
   "execution_count": 42,
   "id": "a2819c9d-d35d-49b5-acac-67307e066cb8",
   "metadata": {},
   "outputs": [
    {
     "name": "stdout",
     "output_type": "stream",
     "text": [
      "Jobs that wait less than one minute are 3551 out of 4407 (80.58%)\n"
     ]
    }
   ],
   "source": [
    "below_1_min = oj_24h_easy_bf[oj_24h_easy_bf[\"waiting_time\"] < 60].shape[0]\n",
    "perc_below_1_min = below_1_min/oj_24h_easy_bf.shape[0]*100\n",
    "print(\"Jobs that wait less than one minute are {} out of {} ({:.2f}%)\".format(below_1_min, oj_24h_easy_bf.shape[0], perc_below_1_min))"
   ]
  },
  {
   "cell_type": "code",
   "execution_count": 43,
   "id": "78458bef-76c7-4250-91da-cdb55f6d8203",
   "metadata": {},
   "outputs": [
    {
     "name": "stdout",
     "output_type": "stream",
     "text": [
      "Jobs that wait less than ten minutes are 3720 out of 4407 (84.41%)\n"
     ]
    }
   ],
   "source": [
    "below_10_min = oj_24h_easy_bf[oj_24h_easy_bf[\"waiting_time\"] < 600].shape[0]\n",
    "perc_below_10_min = below_10_min/oj_24h_easy_bf.shape[0]*100\n",
    "print(\"Jobs that wait less than ten minutes are {} out of {} ({:.2f}%)\".format(below_10_min, oj_24h_easy_bf.shape[0], perc_below_10_min))"
   ]
  },
  {
   "cell_type": "code",
   "execution_count": 44,
   "id": "8d39e2e9-9a4f-4890-adcd-84c191242ead",
   "metadata": {},
   "outputs": [
    {
     "name": "stdout",
     "output_type": "stream",
     "text": [
      "Jobs that wait less than one hour are 3961 out of 4407 (89.88%)\n"
     ]
    }
   ],
   "source": [
    "below_1_hour = oj_24h_easy_bf[oj_24h_easy_bf[\"waiting_time\"] < 3600].shape[0]\n",
    "perc_below_1_hour = below_1_hour/oj_24h_easy_bf.shape[0]*100\n",
    "print(\"Jobs that wait less than one hour are {} out of {} ({:.2f}%)\".format(below_1_hour, oj_24h_easy_bf.shape[0], perc_below_1_hour))"
   ]
  },
  {
   "cell_type": "code",
   "execution_count": 45,
   "id": "f061b561-76b2-4a4b-9252-a96665b2d3d7",
   "metadata": {},
   "outputs": [
    {
     "name": "stdout",
     "output_type": "stream",
     "text": [
      "Jobs that wait less than six hours are 4407 out of 4407 (100.00%)\n"
     ]
    }
   ],
   "source": [
    "below_6_hour = oj_24h_easy_bf[oj_24h_easy_bf[\"waiting_time\"] < 21600].shape[0]\n",
    "perc_below_6_hour = below_6_hour/oj_24h_easy_bf.shape[0]*100\n",
    "print(\"Jobs that wait less than six hours are {} out of {} ({:.2f}%)\".format(below_6_hour, oj_24h_easy_bf.shape[0], perc_below_6_hour))"
   ]
  },
  {
   "cell_type": "code",
   "execution_count": 46,
   "id": "f697905d-c80f-4fe8-90b4-ac46d40287fa",
   "metadata": {},
   "outputs": [],
   "source": [
    "# COMPARATIVE ANALYSIS"
   ]
  },
  {
   "cell_type": "code",
   "execution_count": 47,
   "id": "808ae4d6-8ff3-4a0e-a346-14e2db86c8c1",
   "metadata": {},
   "outputs": [],
   "source": [
    "# Using pred_aware, count how many jobs wait more than the maximum waiting time of easy_bf"
   ]
  },
  {
   "cell_type": "code",
   "execution_count": 48,
   "id": "e838e80a-3bb6-47cd-8e6f-4b1c4e5618e4",
   "metadata": {},
   "outputs": [
    {
     "name": "stdout",
     "output_type": "stream",
     "text": [
      "Jobs that wait more than the maximum waiting time of easy_bf are 85 out of 4407 (1.93%)\n"
     ]
    }
   ],
   "source": [
    "above_max_easy = oj_24h_pred_aware[oj_24h_pred_aware[\"waiting_time\"] > 12608].shape[0]\n",
    "perc_above_max_easy = above_max_easy/oj_24h_pred_aware.shape[0]*100\n",
    "print(\"Jobs that wait more than the maximum waiting time of easy_bf are {} out of {} ({:.2f}%)\".format(above_max_easy, oj_24h_pred_aware.shape[0], perc_above_max_easy))"
   ]
  },
  {
   "cell_type": "code",
   "execution_count": 49,
   "id": "79134cb9-efda-4d24-97cb-817e5af4b492",
   "metadata": {},
   "outputs": [],
   "source": [
    "#  Merge the results to compare waiting time for corresponding jobs"
   ]
  },
  {
   "cell_type": "code",
   "execution_count": 50,
   "id": "a08f8afe-35f5-4db2-b850-0c0d750e5cfd",
   "metadata": {},
   "outputs": [],
   "source": [
    "oj_24h__pred_aware_filtered = oj_24h_pred_aware[['job_id', 'waiting_time']]\n",
    "oj_24h__easy_bf_filtered = oj_24h_easy_bf[['job_id', 'waiting_time']]\n",
    "\n",
    "merged_df = pd.merge(oj_24h__pred_aware_filtered, oj_24h__easy_bf_filtered, on='job_id', suffixes=('_pred_aware', '_easy_bf'))"
   ]
  },
  {
   "cell_type": "code",
   "execution_count": 51,
   "id": "4f68257d-2017-4d2b-bcb6-cc58c84f0545",
   "metadata": {},
   "outputs": [],
   "source": [
    "count_less_frac = (merged_df['waiting_time_pred_aware'] <= merged_df['waiting_time_easy_bf']+0.01).sum()\n",
    "count_less_10min = (merged_df['waiting_time_pred_aware']+600 <= merged_df['waiting_time_easy_bf']).sum()\n",
    "count_less_60min = (merged_df['waiting_time_pred_aware']+3600 <= merged_df['waiting_time_easy_bf']).sum()\n",
    "count_more_10min = (merged_df['waiting_time_pred_aware'] > merged_df['waiting_time_easy_bf']+600).sum()\n",
    "count_more_60min = (merged_df['waiting_time_pred_aware'] > merged_df['waiting_time_easy_bf']+3600).sum()"
   ]
  },
  {
   "cell_type": "code",
   "execution_count": 52,
   "id": "cf112cb0-ac18-4b92-9863-69d049d8587d",
   "metadata": {},
   "outputs": [
    {
     "name": "stdout",
     "output_type": "stream",
     "text": [
      "Using pred_aware:\n",
      "   - the waiting time is at most the same (+0.01 seconds) 3992 out of 4407 times (90.58%)\n",
      "   - the waiting time is reduced by at least 10 minutes 363 out of 4407 times (8.24%)\n",
      "   - the waiting time is reduced by at least 1 hour 199 out of 4407 times (4.52%)\n",
      "   - the waiting time is increased by at least 10 minutes 253 out of 4407 times (5.74%)\n",
      "   - the waiting time is increased by at least 1 hour 153 out of 4407 times (3.47%)\n"
     ]
    }
   ],
   "source": [
    "print(\"Using pred_aware:\")\n",
    "print(\"   - the waiting time is at most the same (+0.01 seconds) {} out of {} times ({:.2f}%)\".format(count_less_frac, oj_24h_pred_aware.shape[0], count_less_frac/oj_24h_pred_aware.shape[0]*100))\n",
    "print(\"   - the waiting time is reduced by at least 10 minutes {} out of {} times ({:.2f}%)\".format(count_less_10min, oj_24h_pred_aware.shape[0], count_less_10min/oj_24h_pred_aware.shape[0]*100))\n",
    "print(\"   - the waiting time is reduced by at least 1 hour {} out of {} times ({:.2f}%)\".format(count_less_60min, oj_24h_pred_aware.shape[0], count_less_60min/oj_24h_pred_aware.shape[0]*100))\n",
    "print(\"   - the waiting time is increased by at least 10 minutes {} out of {} times ({:.2f}%)\".format(count_more_10min, oj_24h_pred_aware.shape[0], count_more_10min/oj_24h_pred_aware.shape[0]*100))\n",
    "print(\"   - the waiting time is increased by at least 1 hour {} out of {} times ({:.2f}%)\".format(count_more_60min, oj_24h_pred_aware.shape[0], count_more_60min/oj_24h_pred_aware.shape[0]*100))"
   ]
  }
 ],
 "metadata": {
  "kernelspec": {
   "display_name": "Python 3 (ipykernel)",
   "language": "python",
   "name": "python3"
  },
  "language_info": {
   "codemirror_mode": {
    "name": "ipython",
    "version": 3
   },
   "file_extension": ".py",
   "mimetype": "text/x-python",
   "name": "python",
   "nbconvert_exporter": "python",
   "pygments_lexer": "ipython3",
   "version": "3.12.3"
  }
 },
 "nbformat": 4,
 "nbformat_minor": 5
}
